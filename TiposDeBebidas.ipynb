{
 "cells": [
  {
   "cell_type": "code",
   "execution_count": 1,
   "metadata": {},
   "outputs": [
    {
     "name": "stdout",
     "output_type": "stream",
     "text": [
      "Temos um total de:\n",
      "39 produtos\n",
      "====================================================\n",
      "|Posição |      SKU      |          Tipo           |\n",
      "====================================================\n",
      "|      1º|   CAR46275    |\u001b[45m\u001b[93m         Outros          \u001b[0m|\n",
      "|      2º|   TFA23962    |\u001b[43m\u001b[91m         Outros          \u001b[0m|\n",
      "|      3º|   TFA64715    |\u001b[43m\u001b[91m         Outros          \u001b[0m|\n",
      "|      4º|   TFA69555    |\u001b[43m\u001b[91m         Outros          \u001b[0m|\n",
      "|      5º|   TFA56743    |\u001b[43m\u001b[91m         Outros          \u001b[0m|\n",
      "|      6º|   BSA45510    |\u001b[41m  Bebida NÃO Alcoólica   \u001b[0m|\n",
      "|      7º|   TFA44968    |\u001b[43m\u001b[91m         Outros          \u001b[0m|\n",
      "|      8º|   CAR75448    |\u001b[45m\u001b[93m         Outros          \u001b[0m|\n",
      "|      9º|   CAR23596    |\u001b[45m\u001b[93m         Outros          \u001b[0m|\n",
      "|     10º|   CAR13490    |\u001b[45m\u001b[93m         Outros          \u001b[0m|\n",
      "|     11º|   BEB21365    |\u001b[42m    Bebida Alcoólica     \u001b[0m|\n",
      "|     12º|   BEB31623    |\u001b[42m    Bebida Alcoólica     \u001b[0m|\n",
      "|     13º|   BSA62419    |\u001b[41m  Bebida NÃO Alcoólica   \u001b[0m|\n",
      "|     14º|   BEB73344    |\u001b[42m    Bebida Alcoólica     \u001b[0m|\n",
      "|     15º|   TFA20079    |\u001b[43m\u001b[91m         Outros          \u001b[0m|\n",
      "|     16º|   BEB80694    |\u001b[42m    Bebida Alcoólica     \u001b[0m|\n",
      "|     17º|   BSA11769    |\u001b[41m  Bebida NÃO Alcoólica   \u001b[0m|\n",
      "|     18º|   BEB19495    |\u001b[42m    Bebida Alcoólica     \u001b[0m|\n",
      "|     19º|   TFA14792    |\u001b[43m\u001b[91m         Outros          \u001b[0m|\n",
      "|     20º|   TFA78043    |\u001b[43m\u001b[91m         Outros          \u001b[0m|\n",
      "|     21º|   BSA33484    |\u001b[41m  Bebida NÃO Alcoólica   \u001b[0m|\n",
      "|     22º|   BEB97471    |\u001b[42m    Bebida Alcoólica     \u001b[0m|\n",
      "|     23º|   BEB62362    |\u001b[42m    Bebida Alcoólica     \u001b[0m|\n",
      "|     24º|   TFA27311    |\u001b[43m\u001b[91m         Outros          \u001b[0m|\n",
      "|     25º|   TFA17715    |\u001b[43m\u001b[91m         Outros          \u001b[0m|\n",
      "|     26º|   BEB85146    |\u001b[42m    Bebida Alcoólica     \u001b[0m|\n",
      "|     27º|   BEB48898    |\u001b[42m    Bebida Alcoólica     \u001b[0m|\n",
      "|     28º|   BEB79496    |\u001b[42m    Bebida Alcoólica     \u001b[0m|\n",
      "|     29º|   CAR38417    |\u001b[45m\u001b[93m         Outros          \u001b[0m|\n",
      "|     30º|   TFA19947    |\u001b[43m\u001b[91m         Outros          \u001b[0m|\n",
      "|     31º|   TFA58799    |\u001b[43m\u001b[91m         Outros          \u001b[0m|\n",
      "|     32º|   CAR94811    |\u001b[45m\u001b[93m         Outros          \u001b[0m|\n",
      "|     33º|   BSA59251    |\u001b[41m  Bebida NÃO Alcoólica   \u001b[0m|\n",
      "|     34º|   BEB15385    |\u001b[42m    Bebida Alcoólica     \u001b[0m|\n",
      "|     35º|   BEB24213    |\u001b[42m    Bebida Alcoólica     \u001b[0m|\n",
      "|     36º|   BEB56262    |\u001b[42m    Bebida Alcoólica     \u001b[0m|\n",
      "|     37º|   BSA96915    |\u001b[41m  Bebida NÃO Alcoólica   \u001b[0m|\n",
      "|     38º|   CAR53454    |\u001b[45m\u001b[93m         Outros          \u001b[0m|\n",
      "|     39º|   BEB75073    |\u001b[42m    Bebida Alcoólica     \u001b[0m|\n"
     ]
    }
   ],
   "source": [
    "def categorizar(bebida, cod_produto):\n",
    "    bebida = bebida.upper()\n",
    "    if cod_produto in bebida:\n",
    "        return True\n",
    "    else:\n",
    "        return False\n",
    "\n",
    "\n",
    "produtos = ['CAR46275','TFA23962','TFA64715','TFA69555','TFA56743','BSA45510','TFA44968','CAR75448','CAR23596','CAR13490','BEB21365','BEB31623','BSA62419','BEB73344','TFA20079','BEB80694','BSA11769','BEB19495','TFA14792','TFA78043','BSA33484','BEB97471','BEB62362','TFA27311','TFA17715','BEB85146','BEB48898','BEB79496','CAR38417','TFA19947','TFA58799','CAR94811','BSA59251','BEB15385','BEB24213','BEB56262','BSA96915','CAR53454','BEB75073']\n",
    "\n",
    "\n",
    "qtde_produtos = len(produtos)\n",
    "print(f'Temos um total de:', f'{qtde_produtos} produtos', sep = '\\n' )\n",
    "\n",
    "print('=' * 52)\n",
    "print('|{:^8}|{:^15}|{:^25}|'.format('Posição','SKU', 'Tipo'))\n",
    "print('=' * 52)\n",
    "\n",
    "for l, produto in enumerate(produtos):\n",
    "    \n",
    "    if categorizar(produto, 'BEB'):\n",
    "        print('|{:>7}º|{:^15}|\\033[42m{:^25}\\033[0m|'.format(l + 1, produto, 'Bebida Alcoólica'))\n",
    "\n",
    "    elif categorizar(produto, 'BSA'):\n",
    "        print('|{:>7}º|{:^15}|\\033[41m{:^25}\\033[0m|'.format(l + 1, produto, 'Bebida NÃO Alcoólica'))\n",
    "\n",
    "    elif categorizar(produto,\"CAR\" ):\n",
    "        print('|{:>7}º|{:^15}|\\033[45m\\033[93m{:^25}\\033[0m|'.format(l + 1, produto, 'Outros'))\n",
    "\n",
    "    elif categorizar(produto,\"TFA\" ):\n",
    "        print('|{:>7}º|{:^15}|\\033[43m\\033[91m{:^25}\\033[0m|'.format(l + 1, produto, 'Outros'))    \n"
   ]
  }
 ],
 "metadata": {
  "interpreter": {
   "hash": "665796ea3363072d3a6057ac2fdbe3c4fcb0d17a4b92295d9707f78e9c46c0af"
  },
  "kernelspec": {
   "display_name": "Python 3.9.7 ('base')",
   "language": "python",
   "name": "python3"
  },
  "language_info": {
   "codemirror_mode": {
    "name": "ipython",
    "version": 3
   },
   "file_extension": ".py",
   "mimetype": "text/x-python",
   "name": "python",
   "nbconvert_exporter": "python",
   "pygments_lexer": "ipython3",
   "version": "3.9.7"
  },
  "orig_nbformat": 4
 },
 "nbformat": 4,
 "nbformat_minor": 2
}
